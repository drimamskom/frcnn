{
  "nbformat": 4,
  "nbformat_minor": 0,
  "metadata": {
    "colab": {
      "provenance": [],
      "toc_visible": true,
      "authorship_tag": "ABX9TyMMAFxgbTqc7BmEKAk0F7FW",
      "include_colab_link": true
    },
    "kernelspec": {
      "name": "python3",
      "display_name": "Python 3"
    },
    "language_info": {
      "name": "python"
    }
  },
  "cells": [
    {
      "cell_type": "markdown",
      "metadata": {
        "id": "view-in-github",
        "colab_type": "text"
      },
      "source": [
        "<a href=\"https://colab.research.google.com/github/drimamskom/frcnn/blob/master/data-absensi.ipynb\" target=\"_parent\"><img src=\"https://colab.research.google.com/assets/colab-badge.svg\" alt=\"Open In Colab\"/></a>"
      ]
    },
    {
      "cell_type": "code",
      "execution_count": 6,
      "metadata": {
        "id": "EqpihgOK-DoB",
        "colab": {
          "base_uri": "https://localhost:8080/"
        },
        "outputId": "b765789a-b96b-48db-b27a-e8c8ec0d0833"
      },
      "outputs": [
        {
          "output_type": "stream",
          "name": "stdout",
          "text": [
            "Looking in indexes: https://pypi.org/simple, https://us-python.pkg.dev/colab-wheels/public/simple/\n",
            "Requirement already satisfied: mysql-connector-python in /usr/local/lib/python3.9/dist-packages (8.0.32)\n",
            "Requirement already satisfied: protobuf<=3.20.3,>=3.11.0 in /usr/local/lib/python3.9/dist-packages (from mysql-connector-python) (3.19.6)\n"
          ]
        },
        {
          "output_type": "stream",
          "name": "stderr",
          "text": [
            "/usr/local/lib/python3.9/dist-packages/pandas/io/sql.py:762: UserWarning: pandas only support SQLAlchemy connectable(engine/connection) ordatabase string URI or sqlite3 DBAPI2 connectionother DBAPI2 objects are not tested, please consider using SQLAlchemy\n",
            "  warnings.warn(\n"
          ]
        },
        {
          "output_type": "stream",
          "name": "stdout",
          "text": [
            "     NIK                           NAMA KELAS     fsTermNo       pulang  \\\n",
            "0  11931  ZHAFIRAH JULIANA PUTRI FAIZAH   X-8     06.40.39        HADIR   \n",
            "1  11930       ZASKIA ELGALITA MAHARANI   X-7  TIDAK ABSEN  TIDAK ABSEN   \n",
            "2  11929           ZAKKIYAH NURIL BAITY   X-6  TIDAK ABSEN  TIDAK ABSEN   \n",
            "3  11928   ZAHWA SAFIRA OCTAVIA SAFITRI   X-5     06.33.04        HADIR   \n",
            "4  11927         YUYUN ZURIATUL FARIDAH   X-4     06.46.08        HADIR   \n",
            "\n",
            "    keterangan        MODEM     tanggal  \n",
            "0     12.04.27       PULANG  2023-03-16  \n",
            "1     11.44.02       PULANG  2023-03-16  \n",
            "2  TIDAK ABSEN  TIDAK ABSEN  2023-03-16  \n",
            "3     12.05.52       PULANG  2023-03-16  \n",
            "4     12.11.44       PULANG  2023-03-16  \n"
          ]
        }
      ],
      "source": [
        "!pip install mysql-connector-python\n",
        "\n",
        "import pandas as pd\n",
        "import mysql.connector\n",
        "\n",
        "mydb = mysql.connector.connect(\n",
        "  host=\"185.227.134.118\",\n",
        "  user=\"drimamskom\",\n",
        "  password=\"D15n4kj4t1m\",\n",
        "  database=\"smanic\"\n",
        ")\n",
        "\n",
        "df = pd.read_sql(\"SELECT * FROM XY1 where tanggal ='2023-03-16'\", mydb)\n",
        "\n",
        "# Menampilkan 5 baris data pertama\n",
        "print(df.head())"
      ]
    },
    {
      "cell_type": "markdown",
      "source": [
        "# Bagian Baru"
      ],
      "metadata": {
        "id": "gu-SxJ3_Ltkq"
      }
    },
    {
      "cell_type": "markdown",
      "source": [
        "# Bagian Baru"
      ],
      "metadata": {
        "id": "yNuxVIckLvYx"
      }
    },
    {
      "cell_type": "markdown",
      "source": [
        "# Bagian Baru"
      ],
      "metadata": {
        "id": "1LVrzLqXLuAL"
      }
    },
    {
      "cell_type": "markdown",
      "source": [
        "# New Section"
      ],
      "metadata": {
        "id": "0NcC_Nly-YcQ"
      }
    }
  ]
}