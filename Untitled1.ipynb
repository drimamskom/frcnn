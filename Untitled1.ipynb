{
  "nbformat": 4,
  "nbformat_minor": 0,
  "metadata": {
    "colab": {
      "provenance": [],
      "toc_visible": true,
      "authorship_tag": "ABX9TyMZtBjxt4V7VLUPCU6k6+ZU",
      "include_colab_link": true
    },
    "kernelspec": {
      "name": "python3",
      "display_name": "Python 3"
    },
    "language_info": {
      "name": "python"
    }
  },
  "cells": [
    {
      "cell_type": "markdown",
      "metadata": {
        "id": "view-in-github",
        "colab_type": "text"
      },
      "source": [
        "<a href=\"https://colab.research.google.com/github/drimamskom/frcnn/blob/master/Untitled1.ipynb\" target=\"_parent\"><img src=\"https://colab.research.google.com/assets/colab-badge.svg\" alt=\"Open In Colab\"/></a>"
      ]
    },
    {
      "cell_type": "code",
      "source": [
        "!pip install mysql-connector-python\n",
        "\n",
        "import pandas as pd\n",
        "import mysql.connector\n",
        "\n",
        "df = pd.read_sql(\"SELECT * FROM XY1 where tanggal ='2023-03-16'\", mydb)\n",
        "def keterangan_Hadir(row):\n",
        "    if row['fsTermNo'] == 'TIDAK ABSEN':\n",
        "        return 'TIDAK HADIR'\n",
        "    else:\n",
        "        fsTermNo_time = pd.to_datetime(row['fsTermNo'], format='%H.%M.%S').time()\n",
        "        if fsTermNo_time < pd.Timestamp('06:30:00').time():\n",
        "            return 'Tepat Waktu'\n",
        "        elif pd.Timestamp('06:30:00').time() <= fsTermNo_time <= pd.Timestamp('07:00:00').time():\n",
        "            return 'Terlambat'\n",
        "        elif pd.Timestamp('07:00:01').time() <= fsTermNo_time <= pd.Timestamp('14:00:00').time():\n",
        "            return 'Ditolak'\n",
        "\t\t\t\n",
        "def keterangan_Pulang(row):    \n",
        "    if row['keterangan'] == 'TIDAK ABSEN' and row['fsTermNo'] == 'TIDAK ABSEN':\n",
        "        return 'TIDAK HADIR'\n",
        "    elif row['keterangan'] == 'TIDAK ABSEN' and row['fsTermNo'] != 'TIDAK ABSEN':\n",
        "        return 'TIDAK ABSEN PULANG'\n",
        "    elif row['keterangan'] != 'TIDAK ABSEN' and row['fsTermNo'] == 'TIDAK ABSEN':\n",
        "        keterangan_time = pd.to_datetime(row['keterangan'], format='%H.%M.%S').time()\n",
        "        if keterangan_time < pd.Timestamp('06:30:00').time():\n",
        "            return 'Ditolak'\n",
        "        elif pd.Timestamp('06:30:00').time() <= keterangan_time <= pd.Timestamp('07:00:00').time():\n",
        "            return 'Pulang Cepat'\n",
        "        elif pd.Timestamp('07:00:01').time() <= keterangan_time <= pd.Timestamp('14:00:00').time():\n",
        "            return 'Pulang'\n",
        "    elif row['keterangan'] != 'TIDAK ABSEN' and row['fsTermNo'] != 'TIDAK ABSEN':\n",
        "        keterangan_time = pd.to_datetime(row['keterangan'], format='%H.%M.%S').time()\n",
        "        if keterangan_time < pd.Timestamp('06:30:00').time():\n",
        "            return 'Ditolak'\n",
        "        elif pd.Timestamp('06:30:00').time() <= keterangan_time <= pd.Timestamp('07:00:00').time():\n",
        "            return 'Pulang Cepat'\n",
        "        elif pd.Timestamp('07:00:01').time() <= keterangan_time <= pd.Timestamp('14:00:00').time():\n",
        "            return 'Pulang'\n",
        "    return ''\n",
        "\n",
        "    \n",
        "df['ketHadir'] = df.apply(keterangan_Hadir, axis=1)\n",
        "df['ketPulang'] = df.apply(keterangan_Pulang, axis=1)\n",
        "df['skorHadir'] = df['ketHadir'].map({'Tepat Waktu': 0, 'Terlambat': 1, 'Ditolak': 2, 'TIDAK HADIR': 4})\n",
        "df['skorPulang'] = df['ketPulang'].map({'Pulang': 0, 'Pulang Cepat': 1, 'Ditolak': 2, 'TIDAK HADIR': 4})\n",
        "print(df.head())"
      ],
      "metadata": {
        "colab": {
          "base_uri": "https://localhost:8080/"
        },
        "id": "nbYAT7adOIua",
        "outputId": "f24a0172-4b1f-46d3-97f3-5adbb8b0ae7f"
      },
      "execution_count": 1,
      "outputs": [
        {
          "output_type": "stream",
          "name": "stdout",
          "text": [
            "Looking in indexes: https://pypi.org/simple, https://us-python.pkg.dev/colab-wheels/public/simple/\n",
            "Collecting mysql-connector-python\n",
            "  Downloading mysql_connector_python-8.0.32-cp39-cp39-manylinux1_x86_64.whl (23.5 MB)\n",
            "\u001b[2K     \u001b[90m━━━━━━━━━━━━━━━━━━━━━━━━━━━━━━━━━━━━━━━━\u001b[0m \u001b[32m23.5/23.5 MB\u001b[0m \u001b[31m49.2 MB/s\u001b[0m eta \u001b[36m0:00:00\u001b[0m\n",
            "\u001b[?25hRequirement already satisfied: protobuf<=3.20.3,>=3.11.0 in /usr/local/lib/python3.9/dist-packages (from mysql-connector-python) (3.19.6)\n",
            "Installing collected packages: mysql-connector-python\n",
            "Successfully installed mysql-connector-python-8.0.32\n"
          ]
        },
        {
          "output_type": "stream",
          "name": "stderr",
          "text": [
            "/usr/local/lib/python3.9/dist-packages/pandas/io/sql.py:762: UserWarning: pandas only support SQLAlchemy connectable(engine/connection) ordatabase string URI or sqlite3 DBAPI2 connectionother DBAPI2 objects are not tested, please consider using SQLAlchemy\n",
            "  warnings.warn(\n"
          ]
        },
        {
          "output_type": "stream",
          "name": "stdout",
          "text": [
            "     NIK                           NAMA KELAS     fsTermNo       pulang  \\\n",
            "0  11931  ZHAFIRAH JULIANA PUTRI FAIZAH   X-8     06.40.39        HADIR   \n",
            "1  11930       ZASKIA ELGALITA MAHARANI   X-7  TIDAK ABSEN  TIDAK ABSEN   \n",
            "2  11929           ZAKKIYAH NURIL BAITY   X-6  TIDAK ABSEN  TIDAK ABSEN   \n",
            "3  11928   ZAHWA SAFIRA OCTAVIA SAFITRI   X-5     06.33.04        HADIR   \n",
            "4  11927         YUYUN ZURIATUL FARIDAH   X-4     06.46.08        HADIR   \n",
            "\n",
            "    keterangan        MODEM     tanggal     ketHadir    ketPulang  skorHadir  \\\n",
            "0     12.04.27       PULANG  2023-03-16    Terlambat       Pulang          1   \n",
            "1     11.44.02       PULANG  2023-03-16  TIDAK HADIR       Pulang          4   \n",
            "2  TIDAK ABSEN  TIDAK ABSEN  2023-03-16  TIDAK HADIR  TIDAK HADIR          4   \n",
            "3     12.05.52       PULANG  2023-03-16    Terlambat       Pulang          1   \n",
            "4     12.11.44       PULANG  2023-03-16    Terlambat       Pulang          1   \n",
            "\n",
            "   skorPulang  \n",
            "0         0.0  \n",
            "1         0.0  \n",
            "2         4.0  \n",
            "3         0.0  \n",
            "4         0.0  \n"
          ]
        }
      ]
    }
  ]
}